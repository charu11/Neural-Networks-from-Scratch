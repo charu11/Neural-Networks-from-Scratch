{
  "nbformat": 4,
  "nbformat_minor": 0,
  "metadata": {
    "colab": {
      "provenance": [],
      "authorship_tag": "ABX9TyPeAFVxzD3XsFG89w9F+vP0",
      "include_colab_link": true
    },
    "kernelspec": {
      "name": "python3",
      "display_name": "Python 3"
    },
    "language_info": {
      "name": "python"
    }
  },
  "cells": [
    {
      "cell_type": "markdown",
      "metadata": {
        "id": "view-in-github",
        "colab_type": "text"
      },
      "source": [
        "<a href=\"https://colab.research.google.com/github/charu11/Neural-Networks-from-Scratch/blob/NNFS/Neural_networks_from_scratch.ipynb\" target=\"_parent\"><img src=\"https://colab.research.google.com/assets/colab-badge.svg\" alt=\"Open In Colab\"/></a>"
      ]
    },
    {
      "cell_type": "markdown",
      "source": [
        "# ***Single Neuron***"
      ],
      "metadata": {
        "id": "FoJqyffV5XL1"
      }
    },
    {
      "cell_type": "code",
      "execution_count": null,
      "metadata": {
        "colab": {
          "base_uri": "https://localhost:8080/"
        },
        "id": "GXTRG4xG5RAz",
        "outputId": "9f497b95-8266-419b-97b8-1d272d85f73f"
      },
      "outputs": [
        {
          "output_type": "stream",
          "name": "stdout",
          "text": [
            "4.0\n"
          ]
        }
      ],
      "source": [
        "inputs = [1,2,3]\n",
        "weights = [0.2, 0.3, 0.4]\n",
        "bias = 2\n",
        "\n",
        "output = (inputs[0] * weights[0] +\n",
        "          inputs[1] * weights[1] +\n",
        "          inputs[2] * weights[2] + bias)\n",
        "\n",
        "print(output)"
      ]
    },
    {
      "cell_type": "markdown",
      "source": [
        "# ***Layer of neurons***"
      ],
      "metadata": {
        "id": "gZqy9ANF5Wpa"
      }
    },
    {
      "cell_type": "code",
      "source": [
        "inputs = [1, 2, 3, 2.5]\n",
        "\n",
        "weights1 = [0.2, 0.8, -0.5, 1]\n",
        "weights2 = [0.5, -0.91, 0.26, -0.5]\n",
        "weights3 = [-0.26, -0.27, 0.17, 0.87]\n",
        "\n",
        "bias1 = 2\n",
        "bias2 = 3\n",
        "bias3 = 0.5\n",
        "\n",
        "outputs = [\n",
        "    # Neuron 1\n",
        "    inputs[0] * weights1[0] +\n",
        "    inputs[1] * weights1[1] +\n",
        "    inputs[2] * weights1[2] +\n",
        "    inputs[3] * weights1[3] + bias1 , \n",
        "\n",
        "    # Neuron 2\n",
        "    inputs[0] * weights2[0] +\n",
        "    inputs[1] * weights2[1] +\n",
        "    inputs[2] * weights2[2] +\n",
        "    inputs[3] * weights2[3] + bias2,\n",
        "\n",
        "    inputs[0] * weights3[0] +\n",
        "    inputs[1] * weights3[1] +\n",
        "    inputs[2] * weights3[2] +\n",
        "    inputs[3] * weights3[3] + bias3        \n",
        "]\n",
        "\n",
        "\n",
        "print(outputs)"
      ],
      "metadata": {
        "colab": {
          "base_uri": "https://localhost:8080/"
        },
        "id": "UWbkWS5k6Xl_",
        "outputId": "25ec7d91-1eee-4286-ee71-9a4cf1f49265"
      },
      "execution_count": null,
      "outputs": [
        {
          "output_type": "stream",
          "name": "stdout",
          "text": [
            "[4.8, 1.21, 2.385]\n"
          ]
        }
      ]
    },
    {
      "cell_type": "markdown",
      "source": [
        "*More Effcient way to calculate the output*"
      ],
      "metadata": {
        "id": "f01RNWad7-Q_"
      }
    },
    {
      "cell_type": "code",
      "source": [
        "inputs = [1, 2, 3, 2.5]\n",
        "weights = [[0.2, 0.8, -0.5, 1],\n",
        "          [0.5, -0.91, 0.26, -0.5],\n",
        "          [-0.26, -0.27, 0.17, 0.87]]\n",
        "biases = [2, 3, 0.5]\n",
        "# Output of current layer\n",
        "outputs = []\n",
        "# For each neuron\n",
        "\n",
        "for neuron_weight, neuron_bias in zip(weights, biases):\n",
        "  # Zeroed output of given neuron\n",
        "  neuron_output = 0\n",
        "\n",
        "  # For each input and weight to the neuron\n",
        "  for n_input, weight in zip(inputs, neuron_weight):\n",
        "    # Multiply this input by associated weight\n",
        "    # and add to the neuron’s output variable\n",
        "    neuron_output += n_input* weight\n",
        "\n",
        "  # Add bias\n",
        "  neuron_output += neuron_bias\n",
        "  outputs.append(neuron_output)\n",
        "\n",
        "\n",
        "print(outputs)\n"
      ],
      "metadata": {
        "colab": {
          "base_uri": "https://localhost:8080/"
        },
        "id": "EQbdsCRv8DpA",
        "outputId": "8443d6b4-ebb7-4a15-ba01-31d90eea088d"
      },
      "execution_count": null,
      "outputs": [
        {
          "output_type": "stream",
          "name": "stdout",
          "text": [
            "[4.8, 1.21, 2.385]\n"
          ]
        }
      ]
    },
    {
      "cell_type": "markdown",
      "source": [
        "# ***Tensors, arrays, Vectors***"
      ],
      "metadata": {
        "id": "pD4e4i5c9vJi"
      }
    },
    {
      "cell_type": "markdown",
      "source": [
        "Tensors are closely-related to arrays. If you interchange tensor/array/matrix when it comes to\n",
        "machine learning, people probably won’t give you too hard of a time. But there are subtle\n",
        "differences, and they are primarily either the context or attributes of the tensor object. To\n",
        "understand a tensor, let’s compare and describe some of the other data containers in Python\n",
        "(things that hold data). Let’s start with a list. A Python list is defined by comma-separated\n",
        "objects contained in brackets. So far, we’ve been using lists.\n"
      ],
      "metadata": {
        "id": "5tJSUUorCsGl"
      }
    },
    {
      "cell_type": "code",
      "source": [
        "list1 = [1,2,3,4]\n",
        "\n",
        "list2 = [[1,5,6,2],\n",
        "          [3,2,1,3]]\n",
        "\n",
        "list3 =  [[[1,5,6,2],\n",
        "          [3,2,1,3]],\n",
        "          [[5,2,1,2],\n",
        "          [6,4,8,4]],\n",
        "          [[2,8,5,3],\n",
        "          [1,1,9,4]]]\n",
        "\n",
        "\n",
        "# above all the list can be an array because those are homologous( A list of lists is\n",
        "#       homologous if each list along a dimension is identically long, and this must be true for each dimension).  \n",
        "\n",
        "\n",
        "list4 = [[1,2,3,4],\n",
        "         [5,6]]   # This can not be an array\n",
        "\n"
      ],
      "metadata": {
        "id": "gQPynd3a90VS"
      },
      "execution_count": null,
      "outputs": []
    },
    {
      "cell_type": "markdown",
      "source": [
        "***Matrix***"
      ],
      "metadata": {
        "id": "_gmRCojZE83O"
      }
    },
    {
      "cell_type": "markdown",
      "source": [
        "A matrix is pretty simple. It’s a rectangular array. It has columns and rows. It is two dimensional.\n",
        "So a matrix can be an array (a 2D array). Can all arrays be matrices? No. An array can be far\n",
        "more than just columns and rows, as it could have four dimensions, twenty dimensions, and so on."
      ],
      "metadata": {
        "id": "nJrVCF-cFAKt"
      }
    },
    {
      "cell_type": "code",
      "source": [
        "list_matrix_array = [[4,2],\n",
        "                      [5,1],\n",
        "                      [8,2]]\n",
        "\n",
        "# the shape of this matrix is (3 * 2)"
      ],
      "metadata": {
        "id": "yW9D7hRjE-_H"
      },
      "execution_count": null,
      "outputs": []
    },
    {
      "cell_type": "markdown",
      "source": [
        "\n",
        "\n",
        "\n",
        "like in the list3, It has more than 2 dimenstions. \n",
        "\n",
        "The first level of this array contains 3 matrices: \n",
        "\n",
        "\n",
        "\n",
        "\n",
        "[[1,5,6,2],\n",
        "[3,2,1,3]]\n",
        "\n",
        "[[5,2,1,2],\n",
        "[6,4,8,4]]\n",
        "\n",
        "And\n",
        "\n",
        "[[2,8,5,3],\n",
        "[1,1,9,4]]\n",
        "\n",
        "\n",
        "That’s what’s inside the most outer brackets and the size of this dimension is then 3. If we look at\n",
        "the first matrix, we can see that it contains 2 lists — [1,5,6,2] and [3,2,1,3] so the size of\n",
        "this dimension is 2 — while each list of this inner matrix includes 4 elements. These 4 elements\n",
        "make up the 3rd and last dimension of this matrix since there are no more inner brackets.\n",
        "Therefore, the shape of this array is (3, 2, 4) and it’s a 3-dimensional array, since the shape\n",
        "contains 3 dimensions."
      ],
      "metadata": {
        "id": "_SPMCw6zF3fn"
      }
    },
    {
      "cell_type": "markdown",
      "source": [
        "# Tensor\n",
        "\n",
        "A tensor object is an object that can be represented as an array.\n",
        "What this means is, as programmers, we can (and will) treat tensors as arrays in the context of\n",
        "deep learning, and that’s really all the thought we have to put into it. Are all tensors just arrays?\n",
        "No, but they are represented as arrays in our code, so, to us, they’re only arrays, and this is why\n",
        "there’s so much argument and confusion."
      ],
      "metadata": {
        "id": "dDzPB9Z4G-52"
      }
    },
    {
      "cell_type": "markdown",
      "source": [
        "# *Dot Product*"
      ],
      "metadata": {
        "id": "y4FoFEgdHwcx"
      }
    },
    {
      "cell_type": "code",
      "source": [
        "a = [0,1,2]\n",
        "b = [3,4,5]\n",
        "\n",
        "dot_product = a[0] * b[0] + a[1] * b[1] + a[2] * b[2] \n",
        "\n",
        "print(dot_product)"
      ],
      "metadata": {
        "colab": {
          "base_uri": "https://localhost:8080/"
        },
        "id": "zxjoPvXyHD3Z",
        "outputId": "e624c8b6-d60b-4671-fa0f-e6f1a21dc642"
      },
      "execution_count": null,
      "outputs": [
        {
          "output_type": "stream",
          "name": "stdout",
          "text": [
            "14\n"
          ]
        }
      ]
    },
    {
      "cell_type": "markdown",
      "source": [
        "# ***Single Neuron with Numpy***"
      ],
      "metadata": {
        "id": "s0alF4CFIPmj"
      }
    },
    {
      "cell_type": "code",
      "source": [
        "import numpy as np"
      ],
      "metadata": {
        "id": "jec0pKLiIe_q"
      },
      "execution_count": null,
      "outputs": []
    },
    {
      "cell_type": "code",
      "source": [
        "inputs = [1,2,3]\n",
        "weights = [0.2, 0.3, 0.4]\n",
        "bias = 2\n",
        "\n",
        "\n",
        "outputs = np.dot(weights, inputs) + bias\n",
        "\n",
        "print(outputs)"
      ],
      "metadata": {
        "colab": {
          "base_uri": "https://localhost:8080/"
        },
        "id": "AqRNs80uIXRq",
        "outputId": "a2a767ae-5bcc-4b3b-a37e-148e6df6d0cd"
      },
      "execution_count": null,
      "outputs": [
        {
          "output_type": "stream",
          "name": "stdout",
          "text": [
            "4.0\n"
          ]
        }
      ]
    },
    {
      "cell_type": "markdown",
      "source": [
        "# ***A Layer of Neurons with Numpy***"
      ],
      "metadata": {
        "id": "dz8QvsBYItvG"
      }
    },
    {
      "cell_type": "code",
      "source": [
        "inputs = [1.0, 2.0, 3.0, 2.5]\n",
        "weights = [[0.2, 0.8, -0.5, 1],\n",
        "            [0.5, -0.91, 0.26, -0.5],\n",
        "            [-0.26, -0.27, 0.17, 0.87]]\n",
        "biases = [2.0, 3.0, 0.5]\n",
        "\n",
        "\n",
        "layer_output = np.dot(weights, inputs) + biases\n",
        "\n",
        "print(layer_output)"
      ],
      "metadata": {
        "colab": {
          "base_uri": "https://localhost:8080/"
        },
        "id": "RaLZhX1xIzI-",
        "outputId": "2754d2f5-d2d2-4c0a-b0d4-09b3b96517bb"
      },
      "execution_count": null,
      "outputs": [
        {
          "output_type": "stream",
          "name": "stdout",
          "text": [
            "[4.8   1.21  2.385]\n"
          ]
        }
      ]
    }
  ]
}