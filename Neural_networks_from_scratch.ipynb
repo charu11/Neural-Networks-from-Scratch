{
  "nbformat": 4,
  "nbformat_minor": 0,
  "metadata": {
    "colab": {
      "provenance": [],
      "mount_file_id": "1-D_4kRwUCnV1zwW5vj8FjQgQi9nOzphw",
      "authorship_tag": "ABX9TyPgWfOuzSi2n12e2Sw0iPpI",
      "include_colab_link": true
    },
    "kernelspec": {
      "name": "python3",
      "display_name": "Python 3"
    },
    "language_info": {
      "name": "python"
    }
  },
  "cells": [
    {
      "cell_type": "markdown",
      "metadata": {
        "id": "view-in-github",
        "colab_type": "text"
      },
      "source": [
        "<a href=\"https://colab.research.google.com/github/charu11/Neural-Networks-from-Scratch/blob/NNFS/Neural_networks_from_scratch.ipynb\" target=\"_parent\"><img src=\"https://colab.research.google.com/assets/colab-badge.svg\" alt=\"Open In Colab\"/></a>"
      ]
    },
    {
      "cell_type": "code",
      "source": [
        "import pandas as pd\n",
        "import numpy as np"
      ],
      "metadata": {
        "id": "v4PjadC0q8yl"
      },
      "execution_count": null,
      "outputs": []
    },
    {
      "cell_type": "markdown",
      "source": [
        "# ***Single Neuron***"
      ],
      "metadata": {
        "id": "FoJqyffV5XL1"
      }
    },
    {
      "cell_type": "code",
      "execution_count": null,
      "metadata": {
        "colab": {
          "base_uri": "https://localhost:8080/"
        },
        "id": "GXTRG4xG5RAz",
        "outputId": "9f497b95-8266-419b-97b8-1d272d85f73f"
      },
      "outputs": [
        {
          "output_type": "stream",
          "name": "stdout",
          "text": [
            "4.0\n"
          ]
        }
      ],
      "source": [
        "inputs = [1,2,3]\n",
        "weights = [0.2, 0.3, 0.4]\n",
        "bias = 2\n",
        "\n",
        "output = (inputs[0] * weights[0] +\n",
        "          inputs[1] * weights[1] +\n",
        "          inputs[2] * weights[2] + bias)\n",
        "\n",
        "print(output)"
      ]
    },
    {
      "cell_type": "markdown",
      "source": [
        "# ***Layer of neurons***"
      ],
      "metadata": {
        "id": "gZqy9ANF5Wpa"
      }
    },
    {
      "cell_type": "code",
      "source": [
        "inputs = [1, 2, 3, 2.5]\n",
        "\n",
        "weights1 = [0.2, 0.8, -0.5, 1]\n",
        "weights2 = [0.5, -0.91, 0.26, -0.5]\n",
        "weights3 = [-0.26, -0.27, 0.17, 0.87]\n",
        "\n",
        "bias1 = 2\n",
        "bias2 = 3\n",
        "bias3 = 0.5\n",
        "\n",
        "outputs = [\n",
        "    # Neuron 1\n",
        "    inputs[0] * weights1[0] +\n",
        "    inputs[1] * weights1[1] +\n",
        "    inputs[2] * weights1[2] +\n",
        "    inputs[3] * weights1[3] + bias1 , \n",
        "\n",
        "    # Neuron 2\n",
        "    inputs[0] * weights2[0] +\n",
        "    inputs[1] * weights2[1] +\n",
        "    inputs[2] * weights2[2] +\n",
        "    inputs[3] * weights2[3] + bias2,\n",
        "\n",
        "    inputs[0] * weights3[0] +\n",
        "    inputs[1] * weights3[1] +\n",
        "    inputs[2] * weights3[2] +\n",
        "    inputs[3] * weights3[3] + bias3        \n",
        "]\n",
        "\n",
        "\n",
        "print(outputs)"
      ],
      "metadata": {
        "colab": {
          "base_uri": "https://localhost:8080/"
        },
        "id": "UWbkWS5k6Xl_",
        "outputId": "25ec7d91-1eee-4286-ee71-9a4cf1f49265"
      },
      "execution_count": null,
      "outputs": [
        {
          "output_type": "stream",
          "name": "stdout",
          "text": [
            "[4.8, 1.21, 2.385]\n"
          ]
        }
      ]
    },
    {
      "cell_type": "markdown",
      "source": [
        "*More Effcient way to calculate the output*"
      ],
      "metadata": {
        "id": "f01RNWad7-Q_"
      }
    },
    {
      "cell_type": "code",
      "source": [
        "inputs = [1, 2, 3, 2.5]\n",
        "weights = [[0.2, 0.8, -0.5, 1],\n",
        "          [0.5, -0.91, 0.26, -0.5],\n",
        "          [-0.26, -0.27, 0.17, 0.87]]\n",
        "biases = [2, 3, 0.5]\n",
        "# Output of current layer\n",
        "outputs = []\n",
        "# For each neuron\n",
        "\n",
        "for neuron_weight, neuron_bias in zip(weights, biases):\n",
        "  # Zeroed output of given neuron\n",
        "  neuron_output = 0\n",
        "\n",
        "  # For each input and weight to the neuron\n",
        "  for n_input, weight in zip(inputs, neuron_weight):\n",
        "    # Multiply this input by associated weight\n",
        "    # and add to the neuron’s output variable\n",
        "    neuron_output += n_input* weight\n",
        "\n",
        "  # Add bias\n",
        "  neuron_output += neuron_bias\n",
        "  outputs.append(neuron_output)\n",
        "\n",
        "\n",
        "print(outputs)\n"
      ],
      "metadata": {
        "colab": {
          "base_uri": "https://localhost:8080/"
        },
        "id": "EQbdsCRv8DpA",
        "outputId": "8443d6b4-ebb7-4a15-ba01-31d90eea088d"
      },
      "execution_count": null,
      "outputs": [
        {
          "output_type": "stream",
          "name": "stdout",
          "text": [
            "[4.8, 1.21, 2.385]\n"
          ]
        }
      ]
    },
    {
      "cell_type": "markdown",
      "source": [
        "# ***Tensors, arrays, Vectors***"
      ],
      "metadata": {
        "id": "pD4e4i5c9vJi"
      }
    },
    {
      "cell_type": "markdown",
      "source": [
        "Tensors are closely-related to arrays. If you interchange tensor/array/matrix when it comes to\n",
        "machine learning, people probably won’t give you too hard of a time. But there are subtle\n",
        "differences, and they are primarily either the context or attributes of the tensor object. To\n",
        "understand a tensor, let’s compare and describe some of the other data containers in Python\n",
        "(things that hold data). Let’s start with a list. A Python list is defined by comma-separated\n",
        "objects contained in brackets. So far, we’ve been using lists.\n"
      ],
      "metadata": {
        "id": "5tJSUUorCsGl"
      }
    },
    {
      "cell_type": "code",
      "source": [
        "list1 = [1,2,3,4]\n",
        "\n",
        "list2 = [[1,5,6,2],\n",
        "          [3,2,1,3]]\n",
        "\n",
        "list3 =  [[[1,5,6,2],\n",
        "          [3,2,1,3]],\n",
        "          [[5,2,1,2],\n",
        "          [6,4,8,4]],\n",
        "          [[2,8,5,3],\n",
        "          [1,1,9,4]]]\n",
        "\n",
        "\n",
        "# above all the list can be an array because those are homologous( A list of lists is\n",
        "#       homologous if each list along a dimension is identically long, and this must be true for each dimension).  \n",
        "\n",
        "\n",
        "list4 = [[1,2,3,4],\n",
        "         [5,6]]   # This can not be an array\n",
        "\n"
      ],
      "metadata": {
        "id": "gQPynd3a90VS"
      },
      "execution_count": null,
      "outputs": []
    },
    {
      "cell_type": "markdown",
      "source": [
        "***Matrix***"
      ],
      "metadata": {
        "id": "_gmRCojZE83O"
      }
    },
    {
      "cell_type": "markdown",
      "source": [
        "A matrix is pretty simple. It’s a rectangular array. It has columns and rows. It is two dimensional.\n",
        "So a matrix can be an array (a 2D array). Can all arrays be matrices? No. An array can be far\n",
        "more than just columns and rows, as it could have four dimensions, twenty dimensions, and so on."
      ],
      "metadata": {
        "id": "nJrVCF-cFAKt"
      }
    },
    {
      "cell_type": "code",
      "source": [
        "list_matrix_array = [[4,2],\n",
        "                      [5,1],\n",
        "                      [8,2]]\n",
        "\n",
        "# the shape of this matrix is (3 * 2)"
      ],
      "metadata": {
        "id": "yW9D7hRjE-_H"
      },
      "execution_count": null,
      "outputs": []
    },
    {
      "cell_type": "markdown",
      "source": [
        "\n",
        "\n",
        "\n",
        "like in the list3, It has more than 2 dimenstions. \n",
        "\n",
        "The first level of this array contains 3 matrices: \n",
        "\n",
        "\n",
        "\n",
        "\n",
        "[[1,5,6,2],\n",
        "[3,2,1,3]]\n",
        "\n",
        "[[5,2,1,2],\n",
        "[6,4,8,4]]\n",
        "\n",
        "And\n",
        "\n",
        "[[2,8,5,3],\n",
        "[1,1,9,4]]\n",
        "\n",
        "\n",
        "That’s what’s inside the most outer brackets and the size of this dimension is then 3. If we look at\n",
        "the first matrix, we can see that it contains 2 lists — [1,5,6,2] and [3,2,1,3] so the size of\n",
        "this dimension is 2 — while each list of this inner matrix includes 4 elements. These 4 elements\n",
        "make up the 3rd and last dimension of this matrix since there are no more inner brackets.\n",
        "Therefore, the shape of this array is (3, 2, 4) and it’s a 3-dimensional array, since the shape\n",
        "contains 3 dimensions."
      ],
      "metadata": {
        "id": "_SPMCw6zF3fn"
      }
    },
    {
      "cell_type": "markdown",
      "source": [
        "# Tensor\n",
        "\n",
        "A tensor object is an object that can be represented as an array.\n",
        "What this means is, as programmers, we can (and will) treat tensors as arrays in the context of\n",
        "deep learning, and that’s really all the thought we have to put into it. Are all tensors just arrays?\n",
        "No, but they are represented as arrays in our code, so, to us, they’re only arrays, and this is why\n",
        "there’s so much argument and confusion."
      ],
      "metadata": {
        "id": "dDzPB9Z4G-52"
      }
    },
    {
      "cell_type": "markdown",
      "source": [
        "# *Dot Product*"
      ],
      "metadata": {
        "id": "y4FoFEgdHwcx"
      }
    },
    {
      "cell_type": "code",
      "source": [
        "a = [0,1,2]\n",
        "b = [3,4,5]\n",
        "\n",
        "dot_product = a[0] * b[0] + a[1] * b[1] + a[2] * b[2] \n",
        "\n",
        "print(dot_product)"
      ],
      "metadata": {
        "colab": {
          "base_uri": "https://localhost:8080/"
        },
        "id": "zxjoPvXyHD3Z",
        "outputId": "e624c8b6-d60b-4671-fa0f-e6f1a21dc642"
      },
      "execution_count": null,
      "outputs": [
        {
          "output_type": "stream",
          "name": "stdout",
          "text": [
            "14\n"
          ]
        }
      ]
    },
    {
      "cell_type": "markdown",
      "source": [
        "# ***Single Neuron with Numpy***"
      ],
      "metadata": {
        "id": "s0alF4CFIPmj"
      }
    },
    {
      "cell_type": "code",
      "source": [
        "import numpy as np"
      ],
      "metadata": {
        "id": "jec0pKLiIe_q"
      },
      "execution_count": null,
      "outputs": []
    },
    {
      "cell_type": "code",
      "source": [
        "inputs = [1,2,3]\n",
        "weights = [0.2, 0.3, 0.4]\n",
        "bias = 2\n",
        "\n",
        "\n",
        "outputs = np.dot(weights, inputs) + bias\n",
        "\n",
        "print(outputs)"
      ],
      "metadata": {
        "colab": {
          "base_uri": "https://localhost:8080/"
        },
        "id": "AqRNs80uIXRq",
        "outputId": "a2a767ae-5bcc-4b3b-a37e-148e6df6d0cd"
      },
      "execution_count": null,
      "outputs": [
        {
          "output_type": "stream",
          "name": "stdout",
          "text": [
            "4.0\n"
          ]
        }
      ]
    },
    {
      "cell_type": "markdown",
      "source": [
        "# ***A Layer of Neurons with Numpy***"
      ],
      "metadata": {
        "id": "dz8QvsBYItvG"
      }
    },
    {
      "cell_type": "code",
      "source": [
        "inputs = [1.0, 2.0, 3.0, 2.5]\n",
        "weights = [[0.2, 0.8, -0.5, 1],\n",
        "            [0.5, -0.91, 0.26, -0.5],\n",
        "            [-0.26, -0.27, 0.17, 0.87]]\n",
        "biases = [2.0, 3.0, 0.5]\n",
        "\n",
        "\n",
        "layer_output = np.dot(weights, inputs) + biases\n",
        "\n",
        "print(layer_output)"
      ],
      "metadata": {
        "colab": {
          "base_uri": "https://localhost:8080/"
        },
        "id": "RaLZhX1xIzI-",
        "outputId": "2754d2f5-d2d2-4c0a-b0d4-09b3b96517bb"
      },
      "execution_count": null,
      "outputs": [
        {
          "output_type": "stream",
          "name": "stdout",
          "text": [
            "[4.8   1.21  2.385]\n"
          ]
        }
      ]
    },
    {
      "cell_type": "markdown",
      "source": [
        "# A Batch of data"
      ],
      "metadata": {
        "id": "6FLM6br4Hk6Q"
      }
    },
    {
      "cell_type": "markdown",
      "source": [
        "Often, neural networks expect to take in many samples at a time for two reasons. One reason\n",
        "is that it’s faster to train in batches in parallel processing, and the other reason is that batches\n",
        "\n",
        "help with generalization during training. If you fit (perform a step of a training process) on one\n",
        "sample at a time, you’re highly likely to keep fitting to that individual sample, rather than\n",
        "slowly producing general tweaks to weights and biases that fit the entire dataset. Fitting or\n",
        "training in batches gives you a higher chance of making more meaningful changes to weights\n",
        "and biases"
      ],
      "metadata": {
        "id": "n4ECHNpWIJZx"
      }
    },
    {
      "cell_type": "markdown",
      "source": [
        "# Matrix Product"
      ],
      "metadata": {
        "id": "F-Js3wXuIvh5"
      }
    },
    {
      "cell_type": "markdown",
      "source": [
        "The matrix product is an operation in which we have 2 matrices, and we are performing dot\n",
        "products of all combinations of rows from the first matrix and the columns of the 2nd matrix,\n",
        "resulting in a matrix of those atomic dot products:\n",
        "\n",
        "***To perform a matrix product, the size of the second dimension of the left matrix must match the\n",
        "size of the first dimension of the right matrix. For example, if the left matrix has a shape of (5, 4)\n",
        "then the right matrix must match this 4 within the first shape value (4, 7). The shape of the\n",
        "resulting array is always the first dimension of the left array and the second dimension of the right\n",
        "array***"
      ],
      "metadata": {
        "id": "Yz2TqWkcIyCB"
      }
    },
    {
      "cell_type": "markdown",
      "source": [
        "# **Transpose for the matrix product**"
      ],
      "metadata": {
        "id": "9HxCCxLUMgNz"
      }
    },
    {
      "cell_type": "code",
      "source": [
        "from IPython.display import Image\n",
        "Image('/content/drive/MyDrive/Neural Networks from Scratch/transposition matrix.PNG')"
      ],
      "metadata": {
        "colab": {
          "base_uri": "https://localhost:8080/",
          "height": 165
        },
        "id": "HJSFdoFAIFZm",
        "outputId": "697817c5-13ad-4685-8d29-b7cbabec4669"
      },
      "execution_count": null,
      "outputs": [
        {
          "output_type": "execute_result",
          "data": {
            "image/png": "[encoded data removed]",
            "text/plain": [
              "<IPython.core.display.Image object>"
            ]
          },
          "metadata": {},
          "execution_count": 1
        }
      ]
    },
    {
      "cell_type": "markdown",
      "source": [
        "This is an example for the matrix transpose."
      ],
      "metadata": {
        "id": "UISvbWuMNpgR"
      }
    },
    {
      "cell_type": "code",
      "source": [
        "a = [1,2,3,4]\n",
        "b = [5,6,7,6]\n",
        "\n",
        "a = np.array([a])\n",
        "b = np.array([b]).T"
      ],
      "metadata": {
        "id": "ElO4u3NBubDl"
      },
      "execution_count": null,
      "outputs": []
    },
    {
      "cell_type": "code",
      "source": [
        "np.dot(a, b)"
      ],
      "metadata": {
        "colab": {
          "base_uri": "https://localhost:8080/"
        },
        "id": "YPuwbKPUrFoM",
        "outputId": "fca0e629-5a62-4737-82a3-b208bb21d0ce"
      },
      "execution_count": null,
      "outputs": [
        {
          "output_type": "execute_result",
          "data": {
            "text/plain": [
              "array([[62]])"
            ]
          },
          "metadata": {},
          "execution_count": 7
        }
      ]
    },
    {
      "cell_type": "markdown",
      "source": [
        "# **A Layers of Neurons & Batch of Data**"
      ],
      "metadata": {
        "id": "6d2HEJBfrSvc"
      }
    },
    {
      "cell_type": "markdown",
      "source": [
        "we need to the dot product of inputs and weights in order to get the product between those 2. so those have to be done using the matrices products. \n",
        "following example shows the input and weights lists. both are (3, 4) matrices,"
      ],
      "metadata": {
        "id": "bkGwookLuVfi"
      }
    },
    {
      "cell_type": "code",
      "source": [
        "inputs = [[1.3,2.1,3.0,4.6], \n",
        "          [2.3,5.6,-1.9,4.8], \n",
        "          [-1.5, 2.7, 5.4, 3.3]]\n",
        "\n",
        "weights = [[0.2, 0.4, 0.8, 1.0],\n",
        "           [.7, -0.4, -0.1, 0.6], \n",
        "           [2.1, 1.1, 0.2, -1.1]]   \n",
        "\n",
        "bias = [2.0, 1.0, 0.5]                  "
      ],
      "metadata": {
        "id": "5K5dA120uVUK"
      },
      "execution_count": null,
      "outputs": []
    },
    {
      "cell_type": "markdown",
      "source": [
        "To do the dot product on matrix row count of first matrix should be equal to the column count of the second matrix. but above the size is same which is (3,4)\n",
        "this is why we need Transpose to get the multiplication done"
      ],
      "metadata": {
        "id": "EVotEmUDw62e"
      }
    },
    {
      "cell_type": "code",
      "source": [
        "layer1_output = np.dot(inputs, np.array(weights).T) + bias"
      ],
      "metadata": {
        "id": "BKKMP-t0rcVm"
      },
      "execution_count": null,
      "outputs": []
    },
    {
      "cell_type": "code",
      "source": [
        "layer1_output"
      ],
      "metadata": {
        "colab": {
          "base_uri": "https://localhost:8080/"
        },
        "id": "8EzNx0Gbxq5a",
        "outputId": "ba24fea1-2080-44a1-b9a3-9c4b57fd392a"
      },
      "execution_count": null,
      "outputs": [
        {
          "output_type": "execute_result",
          "data": {
            "text/plain": [
              "array([[10.1 ,  3.53,  1.08],\n",
              "       [ 7.98,  3.44,  5.83],\n",
              "       [10.4 ,  0.31, -2.23]])"
            ]
          },
          "metadata": {},
          "execution_count": 11
        }
      ]
    },
    {
      "cell_type": "markdown",
      "source": [
        "# **Adding Layers**"
      ],
      "metadata": {
        "id": "igpLqZO8yuvQ"
      }
    },
    {
      "cell_type": "markdown",
      "source": [
        "When adding the layers, most important factor to keep in mind is that, the new inputs should always be equal with the output of the previous layer"
      ],
      "metadata": {
        "id": "LPW1erUvyabI"
      }
    },
    {
      "cell_type": "code",
      "source": [
        "# weights2 and bias2 is the weights of new hidden layer\n",
        "\n",
        "weights2 = [[0.1, 0.2, 0.4],\n",
        "           [.35, -0.2, -0.05], \n",
        "           [1.55, 0.55, 0.1]]   \n",
        "\n",
        "bias2 = [1.0, 0.5, 0.25]  "
      ],
      "metadata": {
        "id": "IEKOnngjyyJE"
      },
      "execution_count": null,
      "outputs": []
    },
    {
      "cell_type": "code",
      "source": [
        "layer2_output = np.dot(output, np.array(weights2).T) + bias2"
      ],
      "metadata": {
        "id": "qdY9P7dOzF8n"
      },
      "execution_count": null,
      "outputs": []
    },
    {
      "cell_type": "markdown",
      "source": [
        "ALl Together now"
      ],
      "metadata": {
        "id": "7S3UOgUdzUkq"
      }
    },
    {
      "cell_type": "code",
      "source": [
        "import numpy as np\n",
        "\n",
        "inputs = [[1.3,2.1,3.0,4.6], \n",
        "          [2.3,5.6,-1.9,4.8], \n",
        "          [-1.5, 2.7, 5.4, 3.3]]\n",
        "\n",
        "weights = [[0.2, 0.4, 0.8, 1.0],\n",
        "           [.7, -0.4, -0.1, 0.6], \n",
        "           [2.1, 1.1, 0.2, -1.1]]   \n",
        "\n",
        "bias = [2.0, 1.0, 0.5]    \n",
        "\n",
        "weights2 = [[0.1, 0.2, 0.4],\n",
        "           [.35, -0.2, -0.05], \n",
        "           [0.55, 0.55, 0.1]]   \n",
        "\n",
        "bias2 = [1.0, 0.5, 0.25] \n",
        "\n",
        "layer1_output = np.dot(inputs, np.array(weights).T) + bias\n",
        "layer2_output = np.dot(layer1_output, np.array(weights2).T) + bias2\n",
        "\n",
        "print(layer2_output)"
      ],
      "metadata": {
        "colab": {
          "base_uri": "https://localhost:8080/"
        },
        "id": "3JBQmV7bzS-C",
        "outputId": "107f4c7d-76a3-4db7-f175-1ac3504c8fca"
      },
      "execution_count": null,
      "outputs": [
        {
          "output_type": "stream",
          "name": "stdout",
          "text": [
            "[[3.148  3.275  7.8545]\n",
            " [4.818  2.3135 7.114 ]\n",
            " [1.21   4.1895 5.9175]]\n"
          ]
        }
      ]
    },
    {
      "cell_type": "markdown",
      "source": [
        "# Chapter 04"
      ],
      "metadata": {
        "id": "TchGXUO7aTrW"
      }
    },
    {
      "cell_type": "markdown",
      "source": [
        "***Activation Functions***"
      ],
      "metadata": {
        "id": "0aSvnl2oaXdN"
      }
    },
    {
      "cell_type": "markdown",
      "source": [
        "In this chapter, we will tackle a few of the activation functions and discuss their roles. We use\n",
        "different activation functions for different cases, and understanding how they work can help you\n",
        "properly pick which of them is best for your task. The activation function is applied to the output\n",
        "of a neuron (or layer of neurons), which modifies outputs. We use activation functions because if\n",
        "the activation function itself is nonlinear, it allows for neural networks with usually two or more\n",
        "hidden layers to map nonlinear functions. We’ll be showing how this works in this chapter.\n",
        "In general, your neural network will have two types of activation functions. The first will be the\n",
        "activation function used in hidden layers, and the second will be used in the output layer. Usually,\n",
        "the activation function used for hidden neurons will be the same for all of them, but it doesn’t\n",
        "have to."
      ],
      "metadata": {
        "id": "e4qOOpcOarBB"
      }
    },
    {
      "cell_type": "markdown",
      "source": [
        "***Step activation function***"
      ],
      "metadata": {
        "id": "MLbza3iZa4h5"
      }
    },
    {
      "cell_type": "markdown",
      "source": [
        "Recall the purpose this activation function serves is to mimic a neuron “firing” or “not firing”\n",
        "based on input information. The simplest version of this is a step function. In a single neuron, if\n",
        "the weights · inputs + bias results in a value greater than 0, the neuron will fire and output a 1;\n",
        "otherwise, it will output a 0.\n"
      ],
      "metadata": {
        "id": "5GRIX-wYa74I"
      }
    },
    {
      "cell_type": "code",
      "source": [
        "from IPython.display import Image\n",
        "Image('/content/drive/MyDrive/Neural Networks from Scratch/step actiavtion function.PNG')"
      ],
      "metadata": {
        "colab": {
          "base_uri": "https://localhost:8080/",
          "height": 379
        },
        "id": "_Cg1oJcbbA5c",
        "outputId": "08c7c0fa-0f59-414c-ac4d-7ca62775d51e"
      },
      "execution_count": 1,
      "outputs": [
        {
          "output_type": "execute_result",
          "data": {
            "image/png": "[encoded data removed]",
            "text/plain": [
              "<IPython.core.display.Image object>"
            ]
          },
          "metadata": {},
          "execution_count": 1
        }
      ]
    },
    {
      "cell_type": "markdown",
      "source": [
        "step activation function rarely using these days"
      ],
      "metadata": {
        "id": "JWt8smqAcE9m"
      }
    },
    {
      "cell_type": "markdown",
      "source": [
        "***Linear activation function***"
      ],
      "metadata": {
        "id": "iDlj3eilcNY1"
      }
    },
    {
      "cell_type": "markdown",
      "source": [
        "A linear function is simply the equation of a line. It will appear as a straight line when graphed,\n",
        "where y=x and the output value equals the input.\n",
        "\n",
        "This activation function is usually applied to the last layer’s output in the case of a regression\n",
        "model — a model that outputs a scalar value instead of a classification"
      ],
      "metadata": {
        "id": "K_GD2fA9cQ6x"
      }
    },
    {
      "cell_type": "code",
      "source": [
        "Image('/content/drive/MyDrive/Neural Networks from Scratch/linear activation function.PNG')"
      ],
      "metadata": {
        "colab": {
          "base_uri": "https://localhost:8080/",
          "height": 396
        },
        "id": "Px0wbbt3cdkc",
        "outputId": "7e222cad-69aa-487b-fca0-5d3e0eab379f"
      },
      "execution_count": 2,
      "outputs": [
        {
          "output_type": "execute_result",
          "data": {
            "image/png": "[encoded data removed]",
            "text/plain": [
              "<IPython.core.display.Image object>"
            ]
          },
          "metadata": {},
          "execution_count": 2
        }
      ]
    },
    {
      "cell_type": "markdown",
      "source": [
        "***Sigmoid activation function***"
      ],
      "metadata": {
        "id": "Kud-hjS3cjAa"
      }
    },
    {
      "cell_type": "markdown",
      "source": [
        "it’s usually better to have a more granular approach\n",
        "for the hidden neuron activation functions. In this case, we’re getting a value that can be\n",
        "reversed to its original value; the returned value contains all the information from the input,\n",
        "contrary to a function like the step function, where an input of 3 will output the same value as an\n",
        "input of 300,000. The output from the Sigmoid function, being in the range of 0 to 1, also works\n",
        "better with neural networks — especially compared to the range of the negative to the positive\n",
        "infinity — and adds nonlinearity"
      ],
      "metadata": {
        "id": "5ADXv2ZTcnaY"
      }
    },
    {
      "cell_type": "code",
      "source": [
        "Image('/content/drive/MyDrive/Neural Networks from Scratch/sigmoid.PNG')"
      ],
      "metadata": {
        "colab": {
          "base_uri": "https://localhost:8080/",
          "height": 345
        },
        "id": "_sgQIk5YdsG6",
        "outputId": "0b2ac04f-b745-46d3-f65e-ef572e5ed589"
      },
      "execution_count": 3,
      "outputs": [
        {
          "output_type": "execute_result",
          "data": {
            "image/png": "[encoded data removed]",
            "text/plain": [
              "<IPython.core.display.Image object>"
            ]
          },
          "metadata": {},
          "execution_count": 3
        }
      ]
    },
    {
      "cell_type": "markdown",
      "source": [
        "Rectified linear activation function"
      ],
      "metadata": {
        "id": "_Fv35P9CdxJq"
      }
    },
    {
      "cell_type": "markdown",
      "source": [
        "The rectified linear activation function is simpler than the sigmoid. It’s quite literally y=x, clipped\n",
        "at 0 from the negative side. If x is less than or equal to 0, then y is 0 — otherwise, y is equal to x.\n",
        "\n",
        "\n",
        "This simple yet powerful activation function is the most widely used activation function at the\n",
        "time of writing for various reasons — mainly speed and efficiency. While the sigmoid activation\n",
        "function isn’t the most complicated, it’s still much more challenging to compute than the ReLU\n",
        "activation function. The ReLU activation function is extremely close to being a linear activation\n",
        "function while remaining nonlinear, due to that bend after 0(below images shows). This simple property is, however,\n",
        "very effective."
      ],
      "metadata": {
        "id": "GtIrLdpPd5A3"
      }
    },
    {
      "cell_type": "code",
      "source": [
        "Image('/content/drive/MyDrive/Neural Networks from Scratch/relu.PNG')"
      ],
      "metadata": {
        "colab": {
          "base_uri": "https://localhost:8080/",
          "height": 365
        },
        "id": "MuBCm4A1eZy_",
        "outputId": "1aec1866-d426-4726-895b-9d279a6d17a5"
      },
      "execution_count": 4,
      "outputs": [
        {
          "output_type": "execute_result",
          "data": {
            "image/png": "[encoded data removed]",
            "text/plain": [
              "<IPython.core.display.Image object>"
            ]
          },
          "metadata": {},
          "execution_count": 4
        }
      ]
    },
    {
      "cell_type": "markdown",
      "source": [
        "***Use of activation functions***"
      ],
      "metadata": {
        "id": "b3vLi-Q9fnEj"
      }
    },
    {
      "cell_type": "markdown",
      "source": [
        "Now that we understand what activation functions represent, how some of them look, and what\n",
        "they return, let’s discuss why we use activation functions in the first place. In most cases, for a\n",
        "neural network to fit a nonlinear function, we need it to contain two or more hidden layers, and\n",
        "we need those hidden layers to use a nonlinear activation function.\n",
        "First off, what’s a nonlinear function? A nonlinear function cannot be represented well by a\n",
        "straight line, such as a sine function:\n"
      ],
      "metadata": {
        "id": "JV9S4IE0fyAu"
      }
    },
    {
      "cell_type": "code",
      "source": [
        "Image('/content/drive/MyDrive/Neural Networks from Scratch/sinx.PNG')"
      ],
      "metadata": {
        "colab": {
          "base_uri": "https://localhost:8080/",
          "height": 268
        },
        "id": "-_krpUcpf1ue",
        "outputId": "857735c3-c296-4746-8274-41b6f5ccd3ea"
      },
      "execution_count": 5,
      "outputs": [
        {
          "output_type": "execute_result",
          "data": {
            "image/png": "[encoded data removed]",
            "text/plain": [
              "<IPython.core.display.Image object>"
            ]
          },
          "metadata": {},
          "execution_count": 5
        }
      ]
    },
    {
      "cell_type": "markdown",
      "source": [
        "While there are certainly problems in life that are linear in nature, for example, trying to figure\n",
        "out the cost of some number of shirts, and we know the cost of an individual shirt, and that there\n",
        "are no bulk discounts, then the equation to calculate the price of any number of those products is a\n",
        "linear equation. Other problems in life are not so simple, like the price of a home. The number of\n",
        "factors that come into play, such as size, location, time of year attempting to sell, number of\n",
        "rooms, yard, neighborhood, and so on, makes the pricing of a home a nonlinear equation. Many of\n",
        "the more interesting and hard problems of our time are nonlinear. The main attraction for neural\n",
        "networks has to do with their ability to solve nonlinear problems. First, let’s consider a situation\n",
        "where neurons have no activation function, which would be the same as having an activation\n",
        "function of y=x. With this linear activation function in a neural network with 2 hidden layers of 8\n",
        "neurons each, the result of training this model will look like:\n"
      ],
      "metadata": {
        "id": "cNU9RNw3gEBE"
      }
    },
    {
      "cell_type": "code",
      "source": [
        "Image('/content/drive/MyDrive/Neural Networks from Scratch/sinx linear.PNG')"
      ],
      "metadata": {
        "colab": {
          "base_uri": "https://localhost:8080/",
          "height": 257
        },
        "id": "PkGd9CyEgKDe",
        "outputId": "dfa762be-f032-412e-93a7-91b014ebc0ce"
      },
      "execution_count": 6,
      "outputs": [
        {
          "output_type": "execute_result",
          "data": {
            "image/png": "[encoded data removed]",
            "text/plain": [
              "<IPython.core.display.Image object>"
            ]
          },
          "metadata": {},
          "execution_count": 6
        }
      ]
    },
    {
      "cell_type": "markdown",
      "source": [
        "When using the same 2 hidden layers of 8 neurons each with the rectified linear activation\n",
        "function, we see the following result after training:\n"
      ],
      "metadata": {
        "id": "jN2C_dUDgmr0"
      }
    },
    {
      "cell_type": "code",
      "source": [
        "Image('/content/drive/MyDrive/Neural Networks from Scratch/sinx relu.PNG')"
      ],
      "metadata": {
        "colab": {
          "base_uri": "https://localhost:8080/",
          "height": 254
        },
        "id": "OZvggIe9gnue",
        "outputId": "aea5831b-7888-4315-9647-44f583fa23da"
      },
      "execution_count": 7,
      "outputs": [
        {
          "output_type": "execute_result",
          "data": {
            "image/png": "[encoded data removed]",
            "text/plain": [
              "<IPython.core.display.Image object>"
            ]
          },
          "metadata": {},
          "execution_count": 7
        }
      ]
    },
    {
      "cell_type": "markdown",
      "source": [
        "***Linear activation in hidden layers***"
      ],
      "metadata": {
        "id": "Ur_FRTaeiSjh"
      }
    },
    {
      "cell_type": "markdown",
      "source": [
        "Now that you can see that this is the case, we still should consider why this is the case. To begin,\n",
        "let’s revisit the linear activation function of y=x, and let’s consider this on a singular neuron level.\n",
        "Given values for weights and biases, what will the output be for a neuron with a y=x activation\n",
        "function? Let’s look at some examples — first, let’s try to update the first weight with a positive\n",
        "value:\n"
      ],
      "metadata": {
        "id": "gGCfg1RbiYkb"
      }
    },
    {
      "cell_type": "code",
      "source": [
        "Image('/content/drive/MyDrive/Neural Networks from Scratch/linear activation hidden layers.PNG')"
      ],
      "metadata": {
        "colab": {
          "base_uri": "https://localhost:8080/",
          "height": 239
        },
        "id": "t21Tt0rQibcQ",
        "outputId": "3cfe3ece-a678-4c21-94ea-a78295396479"
      },
      "execution_count": 8,
      "outputs": [
        {
          "output_type": "execute_result",
          "data": {
            "image/png": "[encoded data removed]",
            "text/plain": [
              "<IPython.core.display.Image object>"
            ]
          },
          "metadata": {},
          "execution_count": 8
        }
      ]
    },
    {
      "cell_type": "code",
      "source": [
        "#input * weight + bias\n",
        "(1.0 * 1.00) + (2.0 * 0.00) + (3.0 * 0.00) + 0.00"
      ],
      "metadata": {
        "colab": {
          "base_uri": "https://localhost:8080/"
        },
        "id": "-bXWcx3-iv0r",
        "outputId": "0c060b7d-7c0b-4f13-bdf5-ded3ddb68aa2"
      },
      "execution_count": 10,
      "outputs": [
        {
          "output_type": "execute_result",
          "data": {
            "text/plain": [
              "1.0"
            ]
          },
          "metadata": {},
          "execution_count": 10
        }
      ]
    },
    {
      "cell_type": "markdown",
      "source": [
        "after the calculation of our inputs, the value of x would be 1.0. since we are using linear function as our activation function the output of that activation fucnction is similar to the x value"
      ],
      "metadata": {
        "id": "IU2-USoyjOd6"
      }
    },
    {
      "cell_type": "markdown",
      "source": [
        "No matter what we do with this neuron’s weights and biases, the output of this neuron will be\n",
        "perfectly linear to y=x of the activation function. This linear nature will continue throughout the\n",
        "entire network:"
      ],
      "metadata": {
        "id": "G5hqgFQokDI8"
      }
    },
    {
      "cell_type": "markdown",
      "source": [
        "***ReLU Activation Function***"
      ],
      "metadata": {
        "id": "AhqEJ4AXkGKT"
      }
    },
    {
      "cell_type": "markdown",
      "source": [],
      "metadata": {
        "id": "S-BiVs5OkKLb"
      }
    }
  ]
}