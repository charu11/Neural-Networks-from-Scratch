{
  "nbformat": 4,
  "nbformat_minor": 0,
  "metadata": {
    "colab": {
      "name": "Single Neuron.ipynb",
      "provenance": [],
      "collapsed_sections": []
    },
    "kernelspec": {
      "name": "python3",
      "display_name": "Python 3"
    },
    "language_info": {
      "name": "python"
    }
  },
  "cells": [
    {
      "cell_type": "markdown",
      "metadata": {
        "id": "wCibx02tD-jS"
      },
      "source": [
        "# **Single Neuron**"
      ]
    },
    {
      "cell_type": "markdown",
      "metadata": {
        "id": "TGSkME0lEPjI"
      },
      "source": [
        "In neurons there are inputs, weight and the bias. lest's add some values to the input, weight and the bias"
      ]
    },
    {
      "cell_type": "code",
      "metadata": {
        "id": "n90CSMZGECul"
      },
      "source": [
        "inputs = [1,2,3]\n",
        "weights = [0.2, 0.8, -0.5]\n",
        "bias = 2\n",
        "\n"
      ],
      "execution_count": 1,
      "outputs": []
    },
    {
      "cell_type": "markdown",
      "metadata": {
        "id": "D-Ulp0trEk-h"
      },
      "source": [
        "Basically the calculations for the output layer is\n",
        "\n",
        "**output = (Input * weight + bias)** "
      ]
    },
    {
      "cell_type": "code",
      "metadata": {
        "id": "hjCjkVgZEhjo"
      },
      "source": [
        "output = (inputs[0] * weights[0] +\n",
        "          inputs[1] * weights[1] +\n",
        "          inputs[2] * weights[2] + bias)"
      ],
      "execution_count": 2,
      "outputs": []
    },
    {
      "cell_type": "code",
      "metadata": {
        "colab": {
          "base_uri": "https://localhost:8080/"
        },
        "id": "Yf9XUdeIFrEX",
        "outputId": "1c4cf3c4-4bba-448f-9333-69791cb32a65"
      },
      "source": [
        "output"
      ],
      "execution_count": 3,
      "outputs": [
        {
          "output_type": "execute_result",
          "data": {
            "text/plain": [
              "2.3"
            ]
          },
          "metadata": {},
          "execution_count": 3
        }
      ]
    },
    {
      "cell_type": "markdown",
      "metadata": {
        "id": "iu_BlhHfGDS6"
      },
      "source": [
        "lets create a neuron with 4 inputs and we add 1.0 as the additional weight for the 4th input and same value for the bias"
      ]
    },
    {
      "cell_type": "code",
      "metadata": {
        "id": "nPDHVB21GCtu"
      },
      "source": [
        "inputs1 = [1,2,3,4]\n",
        "weights1 = [0.2, 0.8, -0.5, 1.0]\n"
      ],
      "execution_count": 4,
      "outputs": []
    },
    {
      "cell_type": "code",
      "metadata": {
        "id": "FozUgbi7GaD7"
      },
      "source": [
        "output1 = (inputs1[0] * weights1[0] +\n",
        "          inputs1[1] * weights1[1] +\n",
        "          inputs1[2] * weights1[2] +\n",
        "          inputs1[3] * weights1[3] + bias )\n"
      ],
      "execution_count": 5,
      "outputs": []
    },
    {
      "cell_type": "code",
      "metadata": {
        "colab": {
          "base_uri": "https://localhost:8080/"
        },
        "id": "7im8i0Z8GrQq",
        "outputId": "61f9df8d-2353-4a4d-af60-f9e80aa8de74"
      },
      "source": [
        "output1"
      ],
      "execution_count": 6,
      "outputs": [
        {
          "output_type": "execute_result",
          "data": {
            "text/plain": [
              "6.3"
            ]
          },
          "metadata": {},
          "execution_count": 6
        }
      ]
    }
  ]
}